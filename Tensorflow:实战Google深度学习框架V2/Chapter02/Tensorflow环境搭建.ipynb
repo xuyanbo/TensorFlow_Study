{
 "cells": [
  {
   "cell_type": "markdown",
   "metadata": {},
   "source": [
    "## 2.1 TensorFlow的主要依赖包\n",
    "TensorFlow依赖的两个最主要的工具包--Protocol Buffer和Bazel。\n",
    "\n",
    "### 2.1.1 Protocol Buffer\n",
    "Protocol Buffer是谷歌开发的处理结构化数据的工具。Protocol Buffer格式的数据和XML和JSON格式的数据有比较大的区别。首先Protocol Buffer序列化后得到的数据不是可读的字符串，而是二进制流，其次使用Protocol Buffer时需要先定义数据的格式(schema)。还原一个序列化之后的数据将需要使用到这个定义好的数据格式。Protocol Buffer序列化出来的数据要比XML格式的数据小3到10倍，解析速度快20到100倍。<br/>\n",
    "Protocol Buffer定义数据格式的文件一般保存在.proto文件中。每一个message代表一类结构化的数据。message里面定义了每一个属性的类型和名字。属性的类型可以是布尔型、整数型、实数型、字符型等基本类型，也可以是另外一个message。这大大增加Protocol Buffer的灵活性。在message中，也定义了一个属性是必需的(required)还是可选的(optional)，或者是可重复的(repeated)。<br/>\n",
    "TensorFlow中的数据基本都是通过Protocol Buffer来组织的。分布式TensorFlow的通信协议gRPC也是以Protocol Buffer作为基础的。\n",
    "### 2.1.2 Bazel\n",
    "Bazel是谷歌开源的自动化构建工具，谷歌内部绝大部分的应用都是通过它来编译的。类似于传统的Makefile、Ant或者Maven。TensorFlow本身以及很多官方样例都是通过Bazel来编译的。<br/>\n",
    "项目空间(workspace)是Bazel的一个基本概念。一个项目空间可以简单地理解为一个文件夹，在这个文件夹中包含编译一个软件所需要的源代码以及输出编译结果的软连接(symbolic link)地址。一个项目空间内可以只包含一个应用，也可以包含多个应用。一个项目空间所对应的文件夹是这个项目的根目录，在这个根目录中需要有一个WORKSPACE文件，此文件定义了对外部资源的依赖关系。空文件同样也是一个合法的WORKSPACE文件。<br/>\n",
    "在一个项目空间内，Bazel通过BUILD文件来找到需要编译的目标。BUILD文件采用一种类似于Python的语法来指定每一个编译目标的输入、输出以及编译方式。<br/>\n",
    "以Python语言为例，Bazel对Python支持的编译方式只有三种：`py_binary`、`py_library`、`py_test`。<br/>\n",
    "- py_binary：将Python程序编译为可执行文件。<br/>\n",
    "- py_test：编译Python测试程序。<br/>\n",
    "- py_library：将Python程序编译成库函数供其他py_binary或py_test调用。<br/>\n",
    "\n",
    "举例说明，假设项目空间中有4个文件：WORKSPACE、BUILD、hello_main.py和hello_lib.py。WORKSPACE给出此项目的外部依赖关系，为了简单起见，使用一个空文件，代表项目没有外部的依赖。<br/>\n",
    "hello_lib.py的代码如下："
   ]
  },
  {
   "cell_type": "code",
   "execution_count": null,
   "metadata": {},
   "outputs": [],
   "source": [
    "def print_hello_world():\n",
    "    print(\"Hello World\")"
   ]
  },
  {
   "cell_type": "markdown",
   "metadata": {},
   "source": [
    "hello_main.py通过调用hello_lib.py中定义的函数来完成输出，代码如下："
   ]
  },
  {
   "cell_type": "code",
   "execution_count": null,
   "metadata": {},
   "outputs": [],
   "source": [
    "import hello_lib\n",
    "hello_lib.print_hello_world()"
   ]
  },
  {
   "cell_type": "markdown",
   "metadata": {},
   "source": [
    "在BUILD文件中定义两个编译目标："
   ]
  },
  {
   "cell_type": "code",
   "execution_count": null,
   "metadata": {},
   "outputs": [],
   "source": [
    "py_library(\n",
    "    name = \"hello_lib\",\n",
    "    srcs = [\n",
    "        \"hello_lib.py\",\n",
    "    ]\n",
    ")\n",
    "\n",
    "py_binary(\n",
    "    name = \"hello_main\",\n",
    "    srcs = [\n",
    "        \"hello_main.py\",\n",
    "    ],\n",
    "    deps = [\n",
    "        \":hello_lib\",\n",
    "    ],\n",
    ")"
   ]
  },
  {
   "cell_type": "markdown",
   "metadata": {},
   "source": [
    "BUILD文件由一系列编译目标组成，定义编译目标的先后顺序不会影响编译结果。在每个编译目标的第一行要指定编译方式，如py_library和py_binary。在每个编译目标中的主体需要给出编译的具体信息。编译的具体信息通过定义name,srcs,deps等属性完成。<br/>\n",
    "- name：编译目标的名字，这个名字被用来指代这一条编译目标。<br/>\n",
    "- srcs：给出编译所需要的源代码，这可以是一个列表。<br/>\n",
    "- deps：给出编译所需要的依赖关系。<br/>\n",
    "\n",
    "Bazel编译结果文件保存到`~/.cache/bazel`目录下，通过output_user_root或output_base参数来改变。在这些编译结果中，`bazel-bin`目录下存放了编译产生的二进制文件以及运行该二进制文件所需要的所有依赖关系。在当前目录下运行`bazel-bin/hello_main`会在屏幕中输出结果。其他编译结果本书使用较少，不赘述。"
   ]
  },
  {
   "cell_type": "markdown",
   "metadata": {},
   "source": [
    "## 2.2 TensorFlow安装\n",
    "\n",
    "TensorFlow提供多种安装方式，Docker安装、通过pip安装以及从源码安装。\n",
    "具体安装说明如下：\n",
    "https://tensorflow.google.cn/install"
   ]
  },
  {
   "cell_type": "markdown",
   "metadata": {},
   "source": [
    "## 2.3 TensorFlow测试样例\n",
    "\n",
    "通过简单样例测试安装好的TensorFlow环境。"
   ]
  },
  {
   "cell_type": "code",
   "execution_count": 2,
   "metadata": {},
   "outputs": [
    {
     "data": {
      "text/plain": [
       "array([3., 5.], dtype=float32)"
      ]
     },
     "execution_count": 2,
     "metadata": {},
     "output_type": "execute_result"
    }
   ],
   "source": [
    "import tensorflow as tf\n",
    "\n",
    "# 定义两个常量a和b\n",
    "a = tf.constant([1.0, 2.0], name=\"a\")\n",
    "b = tf.constant([2.0, 3.0], name=\"b\")\n",
    "\n",
    "# 将两个常量相加\n",
    "result = a + b\n",
    "\n",
    "# tf需要先生成一个会话(session)，并通过这个会话(session)来计算结果。\n",
    "sess = tf.Session()\n",
    "sess.run(result)"
   ]
  }
 ],
 "metadata": {
  "kernelspec": {
   "display_name": "Python 3",
   "language": "python",
   "name": "python3"
  },
  "language_info": {
   "codemirror_mode": {
    "name": "ipython",
    "version": 3
   },
   "file_extension": ".py",
   "mimetype": "text/x-python",
   "name": "python",
   "nbconvert_exporter": "python",
   "pygments_lexer": "ipython3",
   "version": "3.6.5"
  }
 },
 "nbformat": 4,
 "nbformat_minor": 2
}
