{
 "cells": [
  {
   "cell_type": "code",
   "execution_count": 1,
   "metadata": {},
   "outputs": [
    {
     "name": "stdout",
     "output_type": "stream",
     "text": [
      "WARNING:tensorflow:From <ipython-input-1-127bd0f158b8>:8: read_data_sets (from tensorflow.contrib.learn.python.learn.datasets.mnist) is deprecated and will be removed in a future version.\n",
      "Instructions for updating:\n",
      "Please use alternatives such as official/mnist/dataset.py from tensorflow/models.\n",
      "WARNING:tensorflow:From /usr/local/lib/python3.6/site-packages/tensorflow/contrib/learn/python/learn/datasets/mnist.py:260: maybe_download (from tensorflow.contrib.learn.python.learn.datasets.base) is deprecated and will be removed in a future version.\n",
      "Instructions for updating:\n",
      "Please write your own downloading logic.\n",
      "WARNING:tensorflow:From /usr/local/lib/python3.6/site-packages/tensorflow/contrib/learn/python/learn/datasets/mnist.py:262: extract_images (from tensorflow.contrib.learn.python.learn.datasets.mnist) is deprecated and will be removed in a future version.\n",
      "Instructions for updating:\n",
      "Please use tf.data to implement this functionality.\n",
      "Extracting ./Data/train-images-idx3-ubyte.gz\n",
      "WARNING:tensorflow:From /usr/local/lib/python3.6/site-packages/tensorflow/contrib/learn/python/learn/datasets/mnist.py:267: extract_labels (from tensorflow.contrib.learn.python.learn.datasets.mnist) is deprecated and will be removed in a future version.\n",
      "Instructions for updating:\n",
      "Please use tf.data to implement this functionality.\n",
      "Extracting ./Data/train-labels-idx1-ubyte.gz\n",
      "WARNING:tensorflow:From /usr/local/lib/python3.6/site-packages/tensorflow/contrib/learn/python/learn/datasets/mnist.py:110: dense_to_one_hot (from tensorflow.contrib.learn.python.learn.datasets.mnist) is deprecated and will be removed in a future version.\n",
      "Instructions for updating:\n",
      "Please use tf.one_hot on tensors.\n",
      "Extracting ./Data/t10k-images-idx3-ubyte.gz\n",
      "Extracting ./Data/t10k-labels-idx1-ubyte.gz\n",
      "WARNING:tensorflow:From /usr/local/lib/python3.6/site-packages/tensorflow/contrib/learn/python/learn/datasets/mnist.py:290: DataSet.__init__ (from tensorflow.contrib.learn.python.learn.datasets.mnist) is deprecated and will be removed in a future version.\n",
      "Instructions for updating:\n",
      "Please use alternatives such as official/mnist/dataset.py from tensorflow/models.\n"
     ]
    }
   ],
   "source": [
    "import tensorflow as tf\n",
    "import tqdm\n",
    "import numpy as np\n",
    "import matplotlib.pyplot as plt\n",
    "from tensorflow.examples.tutorials.mnist import input_data\n",
    "%matplotlib inline\n",
    "\n",
    "mnist = input_data.read_data_sets('./Data', one_hot=True)"
   ]
  },
  {
   "cell_type": "code",
   "execution_count": 8,
   "metadata": {},
   "outputs": [],
   "source": [
    "class NeuralNet:\n",
    "    def __init__(self, initial_weights, activation_fn, use_batch_norm):\n",
    "        self.use_batch_norm = use_batch_norm\n",
    "        self.name = \"With Batch Norm\" if use_batch_norm else \"Without Batch Norm\" \n",
    "        self.is_training = tf.placeholder(tf.bool, name=\"is_training\")\n",
    "        self.training_accuracies = []\n",
    "        self.build_network(initial_weights, activation_fn)\n",
    "    \n",
    "    def build_network(self, initial_weights, activation_fn):\n",
    "        self.input_layer = tf.placeholder(tf.float32, [None, initial_weights[0].shape[0]])\n",
    "        layer_in = self.input_layer\n",
    "        for weights in initial_weights[:-1]:\n",
    "            layer_in = self.full_connected(layer_in, weights, activation_fn)\n",
    "        self.output_layer = self.full_connected(layer_in, initial_weights[-1])\n",
    "        \n",
    "    def full_connected(self, layer_in, initial_weights, activation_fn=None):\n",
    "        if self.use_batch_norm and activation_fn:\n",
    "            weights = tf.Variable(initial_weights)\n",
    "            linear_output = tf.matmul(layer_in, weights)\n",
    "            bn_output = tf.layers.batch_normalization(linear_output, training=self.is_training)\n",
    "            \n",
    "            return activation_fn(bn_output)\n",
    "        else:\n",
    "            weights = tf.Variable(initial_weights)\n",
    "            biases = tf.Variable(tf.zeros([initial_weights.shape[-1]]))\n",
    "            linear_output = tf.add(tf.matmul(layer_in, weights), biases)\n",
    "            \n",
    "            return linear_output if not activation_fn else activation_fn(linear_output)\n",
    "        \n",
    "    def train(self, session, learning_rate, training_batches, \n",
    "              batches_per_sample, save_model_as = None):\n",
    "        labels = tf.placeholder(tf.float32, [None, 10])\n",
    "        cross_entropy = tf.reduce_mean(\n",
    "            tf.nn.softmax_cross_entropy_with_logits(logits=self.output_layer, labels=labels))\n",
    "        correct_prediction = tf.equal(tf.argmax(self.output_layer, 1), tf.argmax(labels, 1))\n",
    "        accuracy = tf.reduce_mean(tf.cast(correct_prediction, tf.float32))\n",
    "        if self.use_batch_norm:\n",
    "            with tf.control_dependencies(tf.get_collection(tf.GraphKeys.UPDATE_OPS)):\n",
    "                train_step = tf.train.GradientDescentOptimizer(learning_rate).minimize(cross_entropy)\n",
    "        else:\n",
    "            train_step = tf.train.GradientDescentOptimizer(learning_rate).minimize(cross_entropy)\n",
    "        for i in tqdm.tqdm(range(training_batches)):\n",
    "            batch_xs, batch_ys = mnist.train.next_batch(60)\n",
    "            \n",
    "            session.run(train_step, feed_dict={self.input_layer: batch_xs,\n",
    "                                              labels: batch_ys,\n",
    "                                              self.is_training: True})\n",
    "            if i % batches_per_sample == 0:\n",
    "                validate_accuracy = session.run(\n",
    "                    accuracy, feed_dict={self.input_layer: \n",
    "                                         mnist.validation.images,\n",
    "                                         labels: mnist.validation.labels,\n",
    "                                         self.is_training: False})\n",
    "                self.training_accuracies.append(validate_accuracy)\n",
    "        validate_accuracy = session.run(\n",
    "            accuracy, feed_dict={self.input_layer: mnist.validation.images,\n",
    "                                labels: mnist.validation.labels,\n",
    "                                self.is_training: False})\n",
    "        print(\"{}:After traing, final accuracy on validation set={}\".format(self.name, \n",
    "                                                                            validate_accuracy))\n",
    "        if save_model_as:\n",
    "            tf.train.Saver().save(session, save_model_as)\n",
    "        \n",
    "    def test(self, session, test_training_accuracy=False, \n",
    "             include_individual_predictions=False, restore_from=None):\n",
    "        labels = tf.placeholder(tf.float32, [None, 10])\n",
    "        correct_predict = tf.equal(tf.argmax(self.output_layer, 1),\n",
    "                                  tf.argmax(labels, 1))\n",
    "        accuracy = tf.reduce_mean(tf.cast(correct_predict, tf.float32))\n",
    "        \n",
    "        if restore_from:\n",
    "            tf.train.Saver().restore(sess, restore_from)\n",
    "        test_accuracy = session.run(accuracy, feed_dict={self.input_layer: mnist.test.images,\n",
    "                                                        labels: mnist.test.labels,\n",
    "                                                        self.is_training: False})\n",
    "        print('-'*75)\n",
    "        print(\"{}:Accuracy on full test set={}\".format(self.name, test_accuracy))\n",
    "        \n",
    "        if include_individual_predictions:\n",
    "            predictions = []\n",
    "            correct = 0\n",
    "            \n",
    "            for i in range(200):\n",
    "                pred, corr = session.run([tf.argmax(self.output_layer, 1)],\n",
    "                                        feed_dict = {self.layer_input:[mnist.test.images[i]],\n",
    "                                                    labels: [mnist.test.labels[i]],\n",
    "                                                    self.is_training: test_training_accuracy})\n",
    "                correct += corr\n",
    "                predictions.append(pred[0])\n",
    "            print(\"200 predictions:\", predictions)\n",
    "            print(\"Accuracy on 200 samples:\", correct/200)"
   ]
  },
  {
   "cell_type": "code",
   "execution_count": 11,
   "metadata": {},
   "outputs": [],
   "source": [
    "def plot_training_accuracies(*args, **kwargs):\n",
    "    fig, ax = plt.subplots()\n",
    "\n",
    "    batches_per_sample = kwargs['batches_per_sample']\n",
    "    \n",
    "    for nn in args:\n",
    "        ax.plot(range(0,len(nn.training_accuracies)*batches_per_sample,batches_per_sample),\n",
    "                nn.training_accuracies, label=nn.name)\n",
    "    ax.set_xlabel('Training steps')\n",
    "    ax.set_ylabel('Accuracy')\n",
    "    ax.set_title('Validation Accuracy During Training')\n",
    "    ax.legend(loc=4)\n",
    "    ax.set_ylim([0,1])\n",
    "    plt.yticks(np.arange(0, 1.1, 0.1))\n",
    "    plt.grid(True)\n",
    "    plt.show()\n",
    "    \n",
    "def train_and_test(use_bad_weights, learning_rate, activation_fn, \n",
    "                   training_batches=50000, batches_per_sample=500):\n",
    "    if use_bad_weights:\n",
    "        weights = [\n",
    "            np.random.normal(size=(784, 100),scale=5.0).astype(np.float32),\n",
    "            np.random.normal(size=(100, 100),scale=5.0).astype(np.float32),\n",
    "            np.random.normal(size=(100, 100),scale=5.0).astype(np.float32),\n",
    "            np.random.normal(size=(100, 10),scale=5.0).astype(np.float32),\n",
    "        ]\n",
    "    else:\n",
    "        weights = [\n",
    "            # 784 * 100\n",
    "            np.random.normal(size=(784, 100),scale=0.05).astype(np.float32),\n",
    "            # 100 * 100\n",
    "            np.random.normal(size=(100, 100),scale=0.05).astype(np.float32),\n",
    "            # 100 * 100\n",
    "            np.random.normal(size=(100, 100),scale=0.05).astype(np.float32),\n",
    "            # \n",
    "            np.random.normal(size=(100, 10),scale=0.05).astype(np.float32),\n",
    "        ]\n",
    "    \n",
    "    tf.reset_default_graph()\n",
    "    nn = NeuralNet(weights, activation_fn, False)\n",
    "    bn = NeuralNet(weights, activation_fn, True)\n",
    "    \n",
    "    with tf.Session() as sess:\n",
    "        sess.run(tf.global_variables_initializer())\n",
    "        nn.train(sess, learning_rate, training_batches, batches_per_sample)\n",
    "        bn.train(sess, learning_rate, training_batches, batches_per_sample)\n",
    "        \n",
    "        nn.test(sess)\n",
    "        bn.test(sess)\n",
    "    \n",
    "    plot_training_accuracies(nn, bn, batches_per_sample=batches_per_sample)"
   ]
  },
  {
   "cell_type": "code",
   "execution_count": 12,
   "metadata": {},
   "outputs": [
    {
     "name": "stderr",
     "output_type": "stream",
     "text": [
      "100%|██████████| 50000/50000 [01:11<00:00, 699.46it/s]\n"
     ]
    },
    {
     "name": "stdout",
     "output_type": "stream",
     "text": [
      "Without Batch Norm:After traing, final accuracy on validation set=0.9768000245094299\n"
     ]
    },
    {
     "name": "stderr",
     "output_type": "stream",
     "text": [
      "100%|██████████| 50000/50000 [01:49<00:00, 458.55it/s]\n"
     ]
    },
    {
     "name": "stdout",
     "output_type": "stream",
     "text": [
      "With Batch Norm:After traing, final accuracy on validation set=0.9819999933242798\n",
      "---------------------------------------------------------------------------\n",
      "Without Batch Norm:Accuracy on full test set=0.974399983882904\n",
      "---------------------------------------------------------------------------\n",
      "With Batch Norm:Accuracy on full test set=0.9803000092506409\n"
     ]
    },
    {
     "data": {
      "image/png": "[encoded data removed]",
      "text/plain": [
       "<Figure size 432x288 with 1 Axes>"
      ]
     },
     "metadata": {},
     "output_type": "display_data"
    },
    {
     "data": {
      "image/png": "[encoded data removed]",
      "text/plain": [
       "<Figure size 432x288 with 1 Axes>"
      ]
     },
     "metadata": {},
     "output_type": "display_data"
    }
   ],
   "source": [
    "train_and_test(False, 0.01, tf.nn.relu)"
   ]
  },
  {
   "cell_type": "code",
   "execution_count": null,
   "metadata": {},
   "outputs": [],
   "source": []
  }
 ],
 "metadata": {
  "kernelspec": {
   "display_name": "Python 3",
   "language": "python",
   "name": "python3"
  },
  "language_info": {
   "codemirror_mode": {
    "name": "ipython",
    "version": 3
   },
   "file_extension": ".py",
   "mimetype": "text/x-python",
   "name": "python",
   "nbconvert_exporter": "python",
   "pygments_lexer": "ipython3",
   "version": "3.6.5"
  }
 },
 "nbformat": 4,
 "nbformat_minor": 2
}
