{
 "cells": [
  {
   "cell_type": "markdown",
   "metadata": {},
   "source": [
    "## Inception-v3模型\n",
    "在LeNet-5模型中，不同卷积层是通过串联方式连接在一起，而Inception模型中的Inception结构是将不同的卷积层并联通过并联方式连接在一起。<br/>\n",
    "Inception模块是同时使用不同尺寸的过滤器，然后再将这些矩阵拼接在一起。下面给出Inception模块的一个单元示意图：<br/>\n",
    "![image.png](attachment:image.png)\n",
    "从上图可以看出虽然Inception模块使用不同尺寸的过滤器处理输入矩阵，但如果所有的过滤器都使用全0填充且步长为1，那么不同尺寸过滤器前向传播得到的结果矩阵的长和宽都与输入矩阵一致。这样经过不同过滤器处理的结果矩阵可以拼接成一个更深的矩阵。<br/>"
   ]
  },
  {
   "cell_type": "code",
   "execution_count": null,
   "metadata": {},
   "outputs": [],
   "source": []
  }
 ],
 "metadata": {
  "kernelspec": {
   "display_name": "Python 3",
   "language": "python",
   "name": "python3"
  },
  "language_info": {
   "codemirror_mode": {
    "name": "ipython",
    "version": 3
   },
   "file_extension": ".py",
   "mimetype": "text/x-python",
   "name": "python",
   "nbconvert_exporter": "python",
   "pygments_lexer": "ipython3",
   "version": "3.6.5"
  }
 },
 "nbformat": 4,
 "nbformat_minor": 2
}
