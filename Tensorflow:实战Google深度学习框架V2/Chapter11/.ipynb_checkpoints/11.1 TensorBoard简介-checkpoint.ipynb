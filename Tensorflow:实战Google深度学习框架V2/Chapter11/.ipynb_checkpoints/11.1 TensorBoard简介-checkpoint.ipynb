{
 "cells": [
  {
   "cell_type": "markdown",
   "metadata": {},
   "source": [
    "TensorBoard是TensorFlow的可视化工具，可以通过TensorFlow程序运行状态中输出的日志文件可视化TensorFlow程序的运行状态。TensorBoad和TensorFlow程序跑在不同的进程中，TensorBoad会自动读取最新的TensorFlow日志文件，并呈现当前TensorFlow程序运行的最新状态。<br/>\n",
    "简单的TensorFlow程序，展示TensorBoad日志输出功能："
   ]
  },
  {
   "cell_type": "code",
   "execution_count": 6,
   "metadata": {},
   "outputs": [],
   "source": [
    "import tensorflow as tf\n",
    "\n",
    "tf.reset_default_graph()\n",
    "input_1 = tf.constant([1.0, 2.0, 3.0], name=\"input1\")\n",
    "input_2 = tf.Variable(tf.random_uniform([3]), name=\"input2\")\n",
    "\n",
    "output = tf.add_n([input_1, input_2], name=\"add\")\n",
    "\n",
    "writer = tf.summary.FileWriter('./log', tf.get_default_graph())\n",
    "writer.close()"
   ]
  },
  {
   "cell_type": "markdown",
   "metadata": {},
   "source": [
    "运行如下命令便可以启动TensorBoad。<br/>\n",
    "> tensorboard --logdir=./log\n",
    "\n",
    "运行以上命令可以启动一个服务，端口默认6006。界面默认展示的内容为`GRAPHS`，表示图中可视化的内容是TensorFlow的计算图。\n",
    "对于查看远程服务器的TensorBoad。\n",
    "1. 在登录服务器的时候需要使用如下命令：\n",
    "> ssh -L 16006:127.0.0.1:6006 accout@server address\n",
    "\n",
    "2. 训练完模型使用\n",
    "> tensorboard --logdir=./log\n",
    "\n",
    "3. 在本地直接访问地址127.0.0.1:16006\n",
    "\n",
    "原理是建立ssh隧道，实现远程端口到本地端口的转发。<br/>\n",
    "具体来说就是将远程服务器的6006端口（tensorboard默认将数据放在6006端口）转发到本地的16006端口，在本地对16006端口的访问即是对远程6006端口的访问，当然，转发到本地某一端口不是限定的，可自由选择。"
   ]
  },
  {
   "cell_type": "code",
   "execution_count": null,
   "metadata": {},
   "outputs": [],
   "source": []
  }
 ],
 "metadata": {
  "kernelspec": {
   "display_name": "Python 3",
   "language": "python",
   "name": "python3"
  },
  "language_info": {
   "codemirror_mode": {
    "name": "ipython",
    "version": 3
   },
   "file_extension": ".py",
   "mimetype": "text/x-python",
   "name": "python",
   "nbconvert_exporter": "python",
   "pygments_lexer": "ipython3",
   "version": "3.6.5"
  }
 },
 "nbformat": 4,
 "nbformat_minor": 2
}
