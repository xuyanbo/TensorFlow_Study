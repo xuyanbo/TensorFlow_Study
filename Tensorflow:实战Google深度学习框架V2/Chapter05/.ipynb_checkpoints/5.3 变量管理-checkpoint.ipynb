{
 "cells": [
  {
   "cell_type": "markdown",
   "metadata": {},
   "source": [
    "在神经网络模型中通常将前向传播抽象为一个函数，但是当模型很复杂，参数很多的时候，通过传参的方式来传递参数就显得很冗余。因此TensorFlow提供了通过变量名称来创建或获取一个变量的机制。通过该机制，在不同函数中只需要通过变量名来获取变量，而不需要通过传参的形式来处理。<br/>\n",
    "TensorFlow中通过变量名称获取变量的机制主要通过`tf.get_variable`和`tf.variable_scope`函数实现。<br/>\n",
    "`tf.get_variable`可以用于创建或获取变量。当它用于创建变量时，功能和tf.Variable()相同。<br/>"
   ]
  },
  {
   "cell_type": "code",
   "execution_count": 1,
   "metadata": {},
   "outputs": [],
   "source": [
    "import tensorflow as tf\n",
    "# 以下两段代码功能等价，并且变量创建过程基本相同\n",
    "# name为可选参数\n",
    "v = tf.Variable(tf.constant(1.0, shape=[1]), name='v')\n",
    "# name为必填参数，tf.get_variable会根据name去获取或创建变量\n",
    "v = tf.get_variable('v', shape=[1], \n",
    "                    initializer=tf.constant_initializer(1.0))"
   ]
  },
  {
   "cell_type": "markdown",
   "metadata": {},
   "source": [
    "TensorFlow中提供的initializer函数和3.4中随机数和常量生成函数基本一致。<br/>\n",
    "\n",
    "| 初始化函数 | 功能 | 主要参数 | \n",
    "| --------   | :-----  | :----  |\n",
    "| tf.random_normal_initializer | 将变量初始化为满足正态分布的随机值 | 正态分布的均值和标准差 |\n",
    "| tf.truncated_normal_initializer | 将变量初始化为满足正态分布的随机值，但如果随机数出来的值偏离平均值超过2个标准差，那么这个数将会被重新随机 | 正态分布的均值和标准差 |\n",
    "| tf.random_uniform_initializer | 将变量初始化为满足平均分布的随机值 | 最小、最大取值| \n",
    "| tf.constant_initializer | 将变量初始化为给定常量 | 常量的取值| \n",
    "| tf.uniform_unit_scaling_initializer | 将变量初始化为满足平均分布但不影响输出数量级随机值 | factor(产生随机值时乘以的系数)| \n",
    "| tf.Zeros_initializer | 将变量设置为全0 | 变量维度| \n",
    "| tf.Ones_initializer | 将变量设置为全1 | 变量维度| \n",
    "\n",
    "在同一上下文中如果使用tf.get_variable创建同一名称的变量，那么程序会报错。<br/>\n",
    "通过tf.variable_scope()函数创建的上下文管理器中，通过设置tf.variable_scope的reuse参数可以使用tf.get_variable()来创建或获取变量。当`reuse=False`或`reuse=None`时，用于创建变量，如果同名变量已经存在则报错；当`reuse=True`时，用于获取变量，如果变量为创建，则报错。<br/>"
   ]
  },
  {
   "cell_type": "code",
   "execution_count": 2,
   "metadata": {},
   "outputs": [
    {
     "name": "stdout",
     "output_type": "stream",
     "text": [
      "True\n"
     ]
    }
   ],
   "source": [
    "# 在foo命名空间创建名字为v的变量\n",
    "with tf.variable_scope('foo'):\n",
    "    v = tf.get_variable('v', shape=[1], \n",
    "                        initializer=tf.constant_initializer(1.0))\n",
    "# 在foo命名空间创建已存在的变量名v，程序报错\n",
    "with tf.variable_scope('foo'):\n",
    "    v = tf.get_variable('v', shape=[1])\n",
    "# 设置参数reuse=True，在生成上下文管理器中获取已声明的变量\n",
    "with tf.variable_scope('foo', reuse=True):\n",
    "    v1 = tf.get_variable('v', shape=[1])\n",
    "    print(v1 == v)\n",
    "# 获取命名空间中未声明的变量，程序报错\n",
    "with tf.variable_scope('bar', reuse=True):\n",
    "    v = tf.get_variable('v', shape=[1])"
   ]
  },
  {
   "cell_type": "markdown",
   "metadata": {},
   "source": [
    "`tf.variable_scope`的嵌套使用<br/>"
   ]
  },
  {
   "cell_type": "code",
   "execution_count": 3,
   "metadata": {},
   "outputs": [
    {
     "name": "stdout",
     "output_type": "stream",
     "text": [
      "False\n",
      "True\n",
      "True\n",
      "False\n"
     ]
    }
   ],
   "source": [
    "with tf.variable_scope('root'):\n",
    "    # 为False，root命名空间resue为False\n",
    "    print(tf.get_variable_scope().reuse)\n",
    "    with tf.variable_scope('foo', reuse=True):\n",
    "        # 为True，foo命名空间reuse为True\n",
    "        print(tf.get_variable_scope().reuse)\n",
    "        with tf.variable_scope('bar'):\n",
    "            # 为True，不指定reuse，reuse值与外面一层reuse一致\n",
    "            print(tf.get_variable_scope().reuse)\n",
    "    # 为False\n",
    "    print(tf.get_variable_scope().reuse)"
   ]
  },
  {
   "cell_type": "markdown",
   "metadata": {},
   "source": [
    "`tf.variable_scope`函数生成的上下文管理器也会创建一个TensorFlow中的命名空间，在命名空间内创建的变量名称都会带上命名空间名字作为`前缀`。所以，`tf.variable_scope`除了可以空间变量的执行功能，也提供了一个管理变量命名空间的方式。<br/>\n",
    "通过variable_scope来管理变量名称："
   ]
  },
  {
   "cell_type": "code",
   "execution_count": 4,
   "metadata": {},
   "outputs": [
    {
     "name": "stdout",
     "output_type": "stream",
     "text": [
      "v1:0\n",
      "foo/v2:0\n",
      "foo/bar/v3:0\n",
      "True\n"
     ]
    }
   ],
   "source": [
    "v1 = tf.get_variable('v1', [1])\n",
    "# v1:0，v1是变量名，0表示生成变量的第一个运算结果\n",
    "print(v1.name)\n",
    "with tf.variable_scope('foo'):\n",
    "    # foo/v2:0，变量名前面加上命名空间名\n",
    "    v2 = tf.get_variable('v2', [1])\n",
    "    print(v2.name)\n",
    "    with tf.variable_scope('bar'):\n",
    "        # foo/bar/v3:0，嵌套命名空间，变量名前也加入嵌套命名空间名\n",
    "        v3 = tf.get_variable('v3', [1])\n",
    "        print(v3.name)\n",
    "# 初始化一个空命名空间，命名空间名必须为空，才能使用带命名空间的变量名获取变量\n",
    "with tf.variable_scope('', reuse=True):\n",
    "    # 获取foo/bar命名空间下的变量\n",
    "    v4 = tf.get_variable('foo/bar/v3', [1])\n",
    "    print(v4 == v3)"
   ]
  },
  {
   "cell_type": "code",
   "execution_count": null,
   "metadata": {},
   "outputs": [],
   "source": []
  }
 ],
 "metadata": {
  "kernelspec": {
   "display_name": "Python 3",
   "language": "python",
   "name": "python3"
  },
  "language_info": {
   "codemirror_mode": {
    "name": "ipython",
    "version": 3
   },
   "file_extension": ".py",
   "mimetype": "text/x-python",
   "name": "python",
   "nbconvert_exporter": "python",
   "pygments_lexer": "ipython3",
   "version": "3.6.5"
  }
 },
 "nbformat": 4,
 "nbformat_minor": 2
}
